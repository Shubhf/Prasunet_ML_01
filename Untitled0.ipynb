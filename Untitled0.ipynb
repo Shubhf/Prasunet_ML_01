{
  "nbformat": 4,
  "nbformat_minor": 0,
  "metadata": {
    "colab": {
      "provenance": []
    },
    "kernelspec": {
      "name": "python3",
      "display_name": "Python 3"
    },
    "language_info": {
      "name": "python"
    }
  },
  "cells": [
    {
      "cell_type": "code",
      "execution_count": 1,
      "metadata": {
        "colab": {
          "base_uri": "https://localhost:8080/"
        },
        "id": "egcsXH_07-06",
        "outputId": "a1158ce9-dd22-4120-dd5e-8998547c4652"
      },
      "outputs": [
        {
          "output_type": "execute_result",
          "data": {
            "text/plain": [
              "(   Id  MSSubClass MSZoning  LotFrontage  LotArea Street Alley LotShape  \\\n",
              " 0   1          60       RL         65.0     8450   Pave   NaN      Reg   \n",
              " 1   2          20       RL         80.0     9600   Pave   NaN      Reg   \n",
              " 2   3          60       RL         68.0    11250   Pave   NaN      IR1   \n",
              " 3   4          70       RL         60.0     9550   Pave   NaN      IR1   \n",
              " 4   5          60       RL         84.0    14260   Pave   NaN      IR1   \n",
              " \n",
              "   LandContour Utilities  ... PoolArea PoolQC Fence MiscFeature MiscVal MoSold  \\\n",
              " 0         Lvl    AllPub  ...        0    NaN   NaN         NaN       0      2   \n",
              " 1         Lvl    AllPub  ...        0    NaN   NaN         NaN       0      5   \n",
              " 2         Lvl    AllPub  ...        0    NaN   NaN         NaN       0      9   \n",
              " 3         Lvl    AllPub  ...        0    NaN   NaN         NaN       0      2   \n",
              " 4         Lvl    AllPub  ...        0    NaN   NaN         NaN       0     12   \n",
              " \n",
              "   YrSold  SaleType  SaleCondition  SalePrice  \n",
              " 0   2008        WD         Normal     208500  \n",
              " 1   2007        WD         Normal     181500  \n",
              " 2   2008        WD         Normal     223500  \n",
              " 3   2006        WD        Abnorml     140000  \n",
              " 4   2008        WD         Normal     250000  \n",
              " \n",
              " [5 rows x 81 columns],\n",
              "      Id  MSSubClass MSZoning  LotFrontage  LotArea Street Alley LotShape  \\\n",
              " 0  1461          20       RH         80.0    11622   Pave   NaN      Reg   \n",
              " 1  1462          20       RL         81.0    14267   Pave   NaN      IR1   \n",
              " 2  1463          60       RL         74.0    13830   Pave   NaN      IR1   \n",
              " 3  1464          60       RL         78.0     9978   Pave   NaN      IR1   \n",
              " 4  1465         120       RL         43.0     5005   Pave   NaN      IR1   \n",
              " \n",
              "   LandContour Utilities  ... ScreenPorch PoolArea PoolQC  Fence MiscFeature  \\\n",
              " 0         Lvl    AllPub  ...         120        0    NaN  MnPrv         NaN   \n",
              " 1         Lvl    AllPub  ...           0        0    NaN    NaN        Gar2   \n",
              " 2         Lvl    AllPub  ...           0        0    NaN  MnPrv         NaN   \n",
              " 3         Lvl    AllPub  ...           0        0    NaN    NaN         NaN   \n",
              " 4         HLS    AllPub  ...         144        0    NaN    NaN         NaN   \n",
              " \n",
              "   MiscVal MoSold  YrSold  SaleType  SaleCondition  \n",
              " 0       0      6    2010        WD         Normal  \n",
              " 1   12500      6    2010        WD         Normal  \n",
              " 2       0      3    2010        WD         Normal  \n",
              " 3       0      6    2010        WD         Normal  \n",
              " 4       0      1    2010        WD         Normal  \n",
              " \n",
              " [5 rows x 80 columns],\n",
              "      Id      SalePrice\n",
              " 0  1461  169277.052498\n",
              " 1  1462  187758.393989\n",
              " 2  1463  183583.683570\n",
              " 3  1464  179317.477511\n",
              " 4  1465  150730.079977)"
            ]
          },
          "metadata": {},
          "execution_count": 1
        }
      ],
      "source": [
        "import pandas as pd\n",
        "\n",
        "# Load the datasets\n",
        "train_data = pd.read_csv('train.csv')\n",
        "test_data = pd.read_csv('test.csv')\n",
        "sample_submission = pd.read_csv('sample_submission.csv')\n",
        "\n",
        "# Display the first few rows of the datasets\n",
        "train_data.head(), test_data.head(), sample_submission.head()\n"
      ]
    },
    {
      "cell_type": "code",
      "source": [
        "from sklearn.model_selection import train_test_split\n",
        "from sklearn.linear_model import LinearRegression\n",
        "from sklearn.metrics import mean_squared_error\n",
        "\n",
        "# Extract relevant features and target variable from training data\n",
        "X = train_data[['GrLivArea', 'BedroomAbvGr', 'FullBath']]\n",
        "y = train_data['SalePrice']\n",
        "\n",
        "# Split the data into training and validation sets\n",
        "X_train, X_val, y_train, y_val = train_test_split(X, y, test_size=0.2, random_state=42)\n",
        "\n",
        "# Initialize and train the linear regression model\n",
        "model = LinearRegression()\n",
        "model.fit(X_train, y_train)\n",
        "\n",
        "# Validate the model\n",
        "y_pred = model.predict(X_val)\n",
        "mse = mean_squared_error(y_val, y_pred)\n",
        "rmse = mse ** 0.5\n",
        "\n",
        "X_train.shape, X_val.shape, y_train.shape, y_val.shape, mse, rmse\n"
      ],
      "metadata": {
        "colab": {
          "base_uri": "https://localhost:8080/"
        },
        "id": "Tv8uZt5f8Q3j",
        "outputId": "695655d8-8948-4e88-ce4a-d765c8c60f4e"
      },
      "execution_count": 2,
      "outputs": [
        {
          "output_type": "execute_result",
          "data": {
            "text/plain": [
              "((1168, 3), (292, 3), (1168,), (292,), 2806426667.247853, 52975.71771338122)"
            ]
          },
          "metadata": {},
          "execution_count": 2
        }
      ]
    },
    {
      "cell_type": "code",
      "source": [
        "# Extract relevant features from the test data\n",
        "X_test = test_data[['GrLivArea', 'BedroomAbvGr', 'FullBath']]\n",
        "\n",
        "# Predict the house prices for the test data\n",
        "test_predictions = model.predict(X_test)\n",
        "\n",
        "# Prepare the submission file\n",
        "submission = pd.DataFrame({'Id': test_data['Id'], 'SalePrice': test_predictions})\n",
        "\n",
        "# Save the submission file\n",
        "submission.to_csv('submission.csv', index=False)\n"
      ],
      "metadata": {
        "id": "QJqNuZ1l8cWy"
      },
      "execution_count": 6,
      "outputs": []
    },
    {
      "cell_type": "code",
      "source": [
        "# Extract relevant features from the test data\n",
        "X_test = test_data[['GrLivArea', 'BedroomAbvGr', 'FullBath']]\n",
        "\n",
        "# Predict the house prices for the test data\n",
        "test_predictions = model.predict(X_test)\n",
        "\n",
        "# Prepare the submission file\n",
        "submission = pd.DataFrame({'Id': test_data['Id'], 'SalePrice': test_predictions})\n",
        "\n",
        "# Save the submission file\n",
        "submission.to_csv('submission.csv', index=False)\n"
      ],
      "metadata": {
        "id": "XBsu4sbJ8jE8"
      },
      "execution_count": 7,
      "outputs": []
    }
  ]
}